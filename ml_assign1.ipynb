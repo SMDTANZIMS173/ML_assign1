{
 "cells": [
  {
   "cell_type": "markdown",
   "metadata": {},
   "source": [
    "1. What is a parameter?"
   ]
  },
  {
   "cell_type": "markdown",
   "metadata": {},
   "source": [
    "A Parameter in ML is a variable that a model learns from training data.\n",
    "* These model defines how the model makes predictions\n",
    "Types:\n",
    "1. Model Parameter - learned by the model.\n",
    "2. HyperParameter - are set by us before training"
   ]
  },
  {
   "cell_type": "markdown",
   "metadata": {},
   "source": [
    "2. What is correlation?"
   ]
  },
  {
   "cell_type": "markdown",
   "metadata": {},
   "source": [
    "Correlation measures the relationship between two variables—how one changes when the other changes.\n",
    "Range: It lies between -1 to 1\n",
    "\n",
    "+1 → Strong positive (both increase together)\n",
    "0 → No correlation\n",
    "-1 → Strong negative (one increases, the other decreases)\n",
    "  --> This is also known as negative correlation as one increases other variable decreases"
   ]
  },
  {
   "cell_type": "markdown",
   "metadata": {},
   "source": [
    "3. Define Machine Learning. What are the main components in Machine Learning?\n"
   ]
  },
  {
   "cell_type": "markdown",
   "metadata": {},
   "source": [
    "Machine Learning is a branch of artificial intelligence (AI) that enables computers to learn from data and make decisions or predictions without being explicitly programmed. \n",
    "* It involves developing algorithms that improve automatically through experience.\n",
    "\n",
    "Main Components of Machine Learning\n",
    "1. Dataset – The collection of structured or unstructured data used for training and testing the model.\n",
    "2. Features (Input Variables) – The measurable properties or characteristics of the data used to make predictions.\n",
    "3. Model – The mathematical representation that learns patterns from data and makes predictions.\n",
    "4. Algorithm – The method used to train the model (e.g., Linear Regression, Decision Trees, Neural Networks).\n",
    "5. Loss Function – A function that measures how well the model's predictions match the actual values.\n",
    "6. Optimization Algorithm – A method (like Gradient Descent) used to minimize the loss function and improve model performance.\n",
    "7. Training Process – The phase where the model learns from data by adjusting its internal parameters.\n",
    "8. Evaluation Metrics – Measures like accuracy, precision, recall, or RMSE to assess the model’s performance.\n",
    "9. Testing & Validation Data – Separate datasets used to evaluate the model’s generalization ability.\n",
    "10. Deployment – The process of integrating the trained model into real-world applications."
   ]
  },
  {
   "cell_type": "markdown",
   "metadata": {},
   "source": [
    "4. How does loss value help in determining whether the model is good or not?\n"
   ]
  },
  {
   "cell_type": "markdown",
   "metadata": {},
   "source": [
    "The loss value measures how far the model’s predictions are from the actual values. It helps determine whether the model is learning well or needs improvement.\n",
    "\n",
    "How it predicts whether model is good or not:\n",
    "High Loss : The model is making large errors, meaning it is not learning effectively.\n",
    "* Either the model needs improvement or need to use better model\n",
    "Low Loss : The model's predictions are close to the actual values, indicating good performance.\n",
    "* Model is making some errors, means it is learning effectively but in terms of predictions making errors.\n",
    "* it is a sign of good model we need more data to train the model in order to reduce this low loss also."
   ]
  },
  {
   "cell_type": "markdown",
   "metadata": {},
   "source": [
    "5. What are continuous and categorical variables?"
   ]
  },
  {
   "cell_type": "markdown",
   "metadata": {},
   "source": [
    "* Continuous Variables\n",
    "These are numeric variables that can take an infinite number of values within a given range.\n",
    "Ex: Height (160.5 cm, 172.8 cm)\n",
    "\n",
    "*  Categorical Variables\n",
    "These are variables that represent categories or labels and do not have a numerical meaning\n",
    "1. Nominal - Categories with no inherent order\n",
    "   Ex : Gender,Colors etc\n",
    "2. Ordinal - It maintains an order or ranking\n",
    "   Ex : Education level\n"
   ]
  },
  {
   "cell_type": "markdown",
   "metadata": {},
   "source": [
    "6. How do we handle categorical variables in Machine Learning? What are the common techniques?"
   ]
  },
  {
   "cell_type": "markdown",
   "metadata": {},
   "source": [
    "Since most ML models work with numerical data, categorical variables must be converted into a numerical format before training a model.\n",
    "1. Label Encoding\n",
    "Converts categories into numeric labels (0, 1, 2, …).\n",
    "Best for: Nominal data (e.g., Small < Medium < Large).\n",
    "Limitation: Implies an order when there may be none.\n",
    "\n",
    "2. One-Hot Encoding (OHE)\n",
    "Creates binary columns (0/1) for each category.\n",
    "Best for: Nominal data (e.g., Colors: Red, Blue, Green).\n",
    "Limitation: High cardinality leads to too many columns.\n",
    "\n",
    "3. Ordinal Encoding\n",
    "Assigns numeric values to categories based on order.\n",
    "Best for: Ordered categories (e.g., Education Level).\n",
    "Limitation: Needs predefined order.\n",
    "\n",
    "4. Frequency Encoding\n",
    "Replaces categories with their frequency count.\n",
    "Best for: High-cardinality categorical variables.\n",
    "Limitation: Might not capture category meaning.\n",
    "\n",
    "5. Target Encoding (Mean Encoding)\n",
    "Replaces categories with the mean of the target variable.\n",
    "Best for: When categories influence the target.\n",
    "Limitation: Prone to data leakage if not handled properly.\n"
   ]
  },
  {
   "cell_type": "markdown",
   "metadata": {},
   "source": [
    "7. What do you mean by training and testing a dataset?\n"
   ]
  },
  {
   "cell_type": "markdown",
   "metadata": {},
   "source": [
    "In Machine Learning, a dataset is divided into two main parts:\n",
    "\n",
    "* Training Dataset\n",
    "\n",
    "Used to train the model by learning patterns and relationships.\n",
    "The model adjusts its parameters based on this data.\n",
    "Typically 70-80% of the total dataset.\n",
    "* Testing Dataset\n",
    "\n",
    "Used to evaluate the model’s performance on unseen data.\n",
    "Ensures the model generalizes well and isn’t overfitting.\n",
    "Typically 20-30% of the total dataset.\n",
    "\n",
    "* Prevents Overfitting – Ensures the model doesn’t memorize training data.\n",
    "* Measures Accuracy – Helps assess how well the model performs on new data"
   ]
  },
  {
   "cell_type": "markdown",
   "metadata": {},
   "source": [
    "8. What is sklearn.preprocessing?\n"
   ]
  },
  {
   "cell_type": "markdown",
   "metadata": {},
   "source": [
    "* sklearn.preprocessing is a module in Scikit-Learn that helps in preparing data before training a machine learning model. It provides tools to scale, transform, and encode data to improve model performance.\n",
    "\n",
    "Why is it needed?\n",
    "Raw data isn't always ready for models (e.g., different scales, missing values, categorical data).\n",
    "so the module Ensures better accuracy and performance"
   ]
  },
  {
   "cell_type": "markdown",
   "metadata": {},
   "source": [
    "9. What is a Test set?"
   ]
  },
  {
   "cell_type": "markdown",
   "metadata": {},
   "source": [
    "A Test Set is a portion of the dataset used to evaluate the performance of a trained machine learning model.\n",
    "* Checks how well the model performs on new, unseen data.\n",
    "* Prevents overfitting (ensures the model doesn’t just memorize training data).\n",
    "* Helps compare different models to choose the best one."
   ]
  },
  {
   "cell_type": "markdown",
   "metadata": {},
   "source": [
    "10. How do we split data for model fitting (training and testing) in Python?"
   ]
  },
  {
   "cell_type": "markdown",
   "metadata": {},
   "source": [
    "In Machine Learning, we split data into two parts:\n",
    "\n",
    "Training Set – Used to train the model.\n",
    "Testing Set – Used to evaluate the model.\n",
    "* In python we use a train_test_split function imported from sklearn.model_selection\n",
    "1️ Define the Problem\n",
    "2️ Collect and Understand the Data\n",
    "3️ Preprocess & Clean the Data\n",
    "4️ Split Data into Training & Testing Sets\n",
    "5️ Select and Train a Model\n",
    "6️ Evaluate the Model\n",
    "7️ Tune the Model (Hyperparameter Tuning)\n",
    "8️ Deploy & Monitor the Model\n"
   ]
  },
  {
   "cell_type": "markdown",
   "metadata": {},
   "source": [
    "11. Why do we have to perform EDA before fitting a model to the data?"
   ]
  },
  {
   "cell_type": "markdown",
   "metadata": {},
   "source": [
    "1️ Understand Data Distribution – Identify patterns, trends, and relationships between features.\n",
    "\n",
    "2️ Detect Missing Values – Helps decide whether to fill, drop, or impute missing data.\n",
    "\n",
    "3️ Identify Outliers – Outliers can affect model accuracy; detecting them early helps in handling them properly.\n",
    "\n",
    "4️ Feature Selection – Find the most relevant features and remove irrelevant or redundant ones.\n",
    "\n",
    "5️ Check for Data Imbalance – In classification problems, imbalance can bias the model; techniques like SMOTE may be needed.\n",
    "\n",
    "6️ Handle Categorical Variables – Convert them into numerical form using encoding techniques.\n",
    "\n",
    "7️ Choose the Right Scaling Method – Some models require feature scaling (e.g., StandardScaler, MinMaxScaler) for better performance.\n",
    "\n",
    "8️ Prevent Garbage In, Garbage Out (GIGO) – Cleaning and analyzing data ensures the model learns meaningful patterns, not noise."
   ]
  },
  {
   "cell_type": "markdown",
   "metadata": {},
   "source": [
    "12. What is correlation?"
   ]
  },
  {
   "cell_type": "markdown",
   "metadata": {},
   "source": [
    "Correlation measures the relationship between two variables—how one changes when the other changes.\n",
    "Range: It lies between -1 to 1\n",
    "\n",
    "+1 → Strong positive (both increase together)\n",
    "0 → No correlation\n",
    "-1 → Strong negative (one increases, the other decreases)\n",
    "  --> This is also known as negative correlation as one increases other variable decreases"
   ]
  },
  {
   "cell_type": "markdown",
   "metadata": {},
   "source": [
    "13. What does negative correlation mean?"
   ]
  },
  {
   "cell_type": "markdown",
   "metadata": {},
   "source": [
    "+1 → Strong positive (both increase together)\n",
    "0 → No correlation\n",
    "-1 → Strong negative (one increases, the other decreases)\n",
    "  --> This is also known as negative correlation as one increases other variable decreases"
   ]
  },
  {
   "cell_type": "markdown",
   "metadata": {},
   "source": [
    "14. How can you find correlation between variables in Python?"
   ]
  },
  {
   "cell_type": "markdown",
   "metadata": {},
   "source": [
    "+1 → Strong positive (both increase together)\n",
    "0 → No correlation\n",
    "-1 → Strong negative (one increases, the other decreases)"
   ]
  },
  {
   "cell_type": "markdown",
   "metadata": {},
   "source": [
    "15. What is causation? Explain difference between correlation and causation with an example.\n"
   ]
  },
  {
   "attachments": {
    "Screenshot 2025-02-14 090100.png": {
     "image/png": "[encoded data removed]"
    }
   },
   "cell_type": "markdown",
   "metadata": {},
   "source": [
    "Causation means that one event directly influences another. If A causes B, it means changing A will result in a change in B.\n",
    "![Screenshot 2025-02-14 090100.png](<attachment:Screenshot 2025-02-14 090100.png>)"
   ]
  },
  {
   "cell_type": "markdown",
   "metadata": {},
   "source": [
    "16. What is an Optimizer? What are different types of optimizers? Explain each with an example.\n"
   ]
  },
  {
   "attachments": {
    "Screenshot 2025-02-14 090856.png": {
     "image/png": "[encoded data removed]"
    }
   },
   "cell_type": "markdown",
   "metadata": {},
   "source": [
    "An optimizer is an algorithm that adjusts a machine learning model’s parameters (weights & biases) to minimize the loss function and improve accuracy.\n",
    "![Screenshot 2025-02-14 090856.png](<attachment:Screenshot 2025-02-14 090856.png>)"
   ]
  },
  {
   "cell_type": "markdown",
   "metadata": {},
   "source": [
    "17. What is sklearn.linear_model ?"
   ]
  },
  {
   "cell_type": "markdown",
   "metadata": {},
   "source": [
    "sklearn.linear_model is a module in Scikit-Learn that provides linear models for regression and classification tasks."
   ]
  },
  {
   "cell_type": "markdown",
   "metadata": {},
   "source": [
    "18. What does model.fit() do? What arguments must be given?"
   ]
  },
  {
   "cell_type": "markdown",
   "metadata": {},
   "source": [
    "model.fit() trains the machine learning model by learning patterns from the given data. It adjusts the model’s parameters (weights & biases) to minimize error."
   ]
  },
  {
   "cell_type": "markdown",
   "metadata": {},
   "source": [
    "19. What does model.predict() do? What arguments must be given?\n"
   ]
  },
  {
   "cell_type": "markdown",
   "metadata": {},
   "source": [
    "model.predict() makes predictions using the trained model on new or unseen data. It takes input features (X) and returns the predicted output (y)."
   ]
  },
  {
   "cell_type": "markdown",
   "metadata": {},
   "source": [
    "20. What is feature scaling? How does it help in Machine Learning?"
   ]
  },
  {
   "cell_type": "markdown",
   "metadata": {},
   "source": [
    "Feature scaling is the process of normalizing or standardizing the numerical features in a dataset to ensure they are on a similar scale.\n",
    "* Prevents bias in models – Algorithms like gradient descent and distance-based models (KNN, SVM) perform better when features are on the same scale.\n",
    "\n",
    "* Speeds up model training – Helps optimization algorithms converge faster.\n",
    "\n",
    "* Improves model accuracy – Prevents large-valued features from dominating smaller ones."
   ]
  },
  {
   "cell_type": "markdown",
   "metadata": {},
   "source": [
    "21. How do we perform scaling in Python?"
   ]
  },
  {
   "cell_type": "markdown",
   "metadata": {},
   "source": [
    "1. we have 2 types\n",
    "* MinMax Scaling (Normalization)\n",
    "* Standardization (Z-score Scaling)"
   ]
  },
  {
   "cell_type": "code",
   "execution_count": 1,
   "metadata": {},
   "outputs": [
    {
     "name": "stdout",
     "output_type": "stream",
     "text": [
      "[[0.  ]\n",
      " [0.25]\n",
      " [0.5 ]\n",
      " [0.75]\n",
      " [1.  ]]\n",
      "[[-1.41421356]\n",
      " [-0.70710678]\n",
      " [ 0.        ]\n",
      " [ 0.70710678]\n",
      " [ 1.41421356]]\n"
     ]
    }
   ],
   "source": [
    "from sklearn.preprocessing import MinMaxScaler\n",
    "\n",
    "X = [[10], [20], [30], [40], [50]]  # Sample data\n",
    "\n",
    "scaler = MinMaxScaler()\n",
    "X_scaled = scaler.fit_transform(X)\n",
    "\n",
    "print(X_scaled)  # Values between 0 and 1\n",
    "# StandardScaler\n",
    "from sklearn.preprocessing import StandardScaler\n",
    "\n",
    "X = [[10], [20], [30], [40], [50]]\n",
    "\n",
    "scaler = StandardScaler()\n",
    "X_scaled = scaler.fit_transform(X)\n",
    "\n",
    "print(X_scaled)  # Mean = 0, Std Dev = 1\n"
   ]
  },
  {
   "cell_type": "markdown",
   "metadata": {},
   "source": [
    "22. Explain data encoding?"
   ]
  },
  {
   "cell_type": "markdown",
   "metadata": {},
   "source": [
    "Data encoding is the process of converting categorical data (text, labels) into numerical values so that ML models can understand and process them."
   ]
  }
 ],
 "metadata": {
  "kernelspec": {
   "display_name": "base",
   "language": "python",
   "name": "python3"
  },
  "language_info": {
   "codemirror_mode": {
    "name": "ipython",
    "version": 3
   },
   "file_extension": ".py",
   "mimetype": "text/x-python",
   "name": "python",
   "nbconvert_exporter": "python",
   "pygments_lexer": "ipython3",
   "version": "3.12.7"
  }
 },
 "nbformat": 4,
 "nbformat_minor": 2
}
